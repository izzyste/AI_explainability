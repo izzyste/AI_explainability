{
 "cells": [
  {
   "cell_type": "code",
   "execution_count": 27,
   "metadata": {},
   "outputs": [],
   "source": [
    "import json\n",
    "with open('cloudLocationsEmotion.json') as json_file:\n",
    "    locationDataEmotion = json.load(json_file)\n",
    "with open('cloudLocationsGender.json') as json_file:\n",
    "    locationDataGender = json.load(json_file)"
   ]
  },
  {
   "cell_type": "code",
   "execution_count": 28,
   "metadata": {},
   "outputs": [],
   "source": [
    "import csv\n",
    "females = set()\n",
    "with open('femalesList') as csv_file:\n",
    "    csv_reader = csv.reader(csv_file, delimiter=',')\n",
    "    for row in csv_reader:\n",
    "        females.add(int(row[0]))"
   ]
  },
  {
   "cell_type": "code",
   "execution_count": 29,
   "metadata": {},
   "outputs": [],
   "source": [
    "with open('emotion_results.json') as json_file:\n",
    "    emotionData = json.load(json_file)"
   ]
  },
  {
   "cell_type": "code",
   "execution_count": 39,
   "metadata": {},
   "outputs": [],
   "source": [
    "gridLocationsEmotion = []\n",
    "with open('gridLocationsEmotion.csv') as csv_file:\n",
    "    csv_reader = csv.reader(csv_file, delimiter=',')\n",
    "    for row in csv_reader:\n",
    "        loc = row[0].split(';')\n",
    "        for i in range(len(loc)):\n",
    "            coord = loc[i]\n",
    "            coord = float(coord)\n",
    "            loc[i] = coord\n",
    "        gridLocationsEmotion.extend([loc])\n",
    "        #print(loc)\n",
    "        \n",
    "gridLocationsGender = []\n",
    "with open('gridLocationsGender.csv') as csv_file:\n",
    "    csv_reader = csv.reader(csv_file, delimiter=',')\n",
    "    for row in csv_reader:\n",
    "        loc = row\n",
    "        for i in range(len(loc)):\n",
    "            coord = loc[i]\n",
    "            coord = float(coord)\n",
    "            loc[i] = coord\n",
    "        gridLocationsGender.extend([loc])"
   ]
  },
  {
   "cell_type": "code",
   "execution_count": 42,
   "metadata": {},
   "outputs": [
    {
     "name": "stdout",
     "output_type": "stream",
     "text": [
      "[0.23750829696655273, 0.2115168273448944] [13.0, 17.0] [0.18083670735359192, 0.8188942074775696] [0.23750829696655273, 0.2115168273448944]\n"
     ]
    },
    {
     "ename": "NameError",
     "evalue": "name 'gridLocationEmotion' is not defined",
     "output_type": "error",
     "traceback": [
      "\u001b[0;31m---------------------------------------------------------------------------\u001b[0m",
      "\u001b[0;31mNameError\u001b[0m                                 Traceback (most recent call last)",
      "\u001b[0;32m<ipython-input-42-8da106bf0835>\u001b[0m in \u001b[0;36m<module>\u001b[0;34m\u001b[0m\n\u001b[1;32m     19\u001b[0m     \u001b[0mgender\u001b[0m \u001b[0;34m=\u001b[0m \u001b[0;34m\"woman\"\u001b[0m \u001b[0;32mif\u001b[0m \u001b[0;34m(\u001b[0m\u001b[0mnum\u001b[0m \u001b[0;32min\u001b[0m \u001b[0mfemales\u001b[0m\u001b[0;34m)\u001b[0m \u001b[0;32melse\u001b[0m \u001b[0;34m\"man\"\u001b[0m\u001b[0;34m\u001b[0m\u001b[0;34m\u001b[0m\u001b[0m\n\u001b[1;32m     20\u001b[0m \u001b[0;34m\u001b[0m\u001b[0m\n\u001b[0;32m---> 21\u001b[0;31m     \u001b[0mlocations\u001b[0m\u001b[0;34m[\u001b[0m\u001b[0mnum\u001b[0m\u001b[0;34m]\u001b[0m \u001b[0;34m=\u001b[0m \u001b[0;34m{\u001b[0m\u001b[0;34m\"path\"\u001b[0m\u001b[0;34m:\u001b[0m \u001b[0mpath\u001b[0m\u001b[0;34m,\u001b[0m \u001b[0;34m\"cloudPointEmotion\"\u001b[0m\u001b[0;34m:\u001b[0m \u001b[0mcloudPointEmotion\u001b[0m\u001b[0;34m,\u001b[0m \u001b[0;34m\"gridPointEmotion\"\u001b[0m\u001b[0;34m:\u001b[0m \u001b[0mgridLocationEmotion\u001b[0m\u001b[0;34m,\u001b[0m \u001b[0;34m\"gender\"\u001b[0m\u001b[0;34m:\u001b[0m \u001b[0mgender\u001b[0m\u001b[0;34m,\u001b[0m \u001b[0;34m\"emotion\"\u001b[0m\u001b[0;34m:\u001b[0m \u001b[0mmaxEmotion\u001b[0m\u001b[0;34m}\u001b[0m\u001b[0;34m\u001b[0m\u001b[0;34m\u001b[0m\u001b[0m\n\u001b[0m\u001b[1;32m     22\u001b[0m \u001b[0;34m\u001b[0m\u001b[0m\n\u001b[1;32m     23\u001b[0m \u001b[0;31m#print(locations)\u001b[0m\u001b[0;34m\u001b[0m\u001b[0;34m\u001b[0m\u001b[0;34m\u001b[0m\u001b[0m\n",
      "\u001b[0;31mNameError\u001b[0m: name 'gridLocationEmotion' is not defined"
     ]
    }
   ],
   "source": [
    "locations = dict()\n",
    "for i in range(len(locationDataEmotion)):\n",
    "    emotionPoint = locationDataEmotion[i]\n",
    "    \n",
    "    path = emotionPoint['path']\n",
    "    \n",
    "    cloudPointEmotion = emotionPoint['point']\n",
    "    gridPointEmotion = gridLocationsEmotion[i]\n",
    "    \n",
    "    cloudPointGender = locationDataGender[i]['point']\n",
    "    gridPointGender = gridLocationsGender[i]\n",
    "    \n",
    "    print(cloudPointEmotion, gridPointEmotion, cloudPointGender, cloudPointEmotion)\n",
    "    num = int(path[0:-4])\n",
    "    \n",
    "    emotions = emotionData[path]\n",
    "    maxEmotion = max(emotions, key=emotions.get)\n",
    "    \n",
    "    gender = \"woman\" if (num in females) else \"man\"\n",
    "    \n",
    "    locations[num] = {\"path\": path, \"cloudPointEmotion\": cloudPointEmotion, \"gridPointEmotion\": gridPointEmotion, \"cloudPointGender\": cloudPointGender, \"gridPointGender\": gridPointGender, \"gender\": gender, \"emotion\": maxEmotion}\n",
    "    \n",
    "#print(locations)"
   ]
  },
  {
   "cell_type": "code",
   "execution_count": 66,
   "metadata": {},
   "outputs": [],
   "source": [
    "f = open(\"allData.json\", \"a\")\n",
    "f.write(json.dumps(locations))\n",
    "f.close()"
   ]
  },
  {
   "cell_type": "code",
   "execution_count": null,
   "metadata": {},
   "outputs": [],
   "source": []
  }
 ],
 "metadata": {
  "kernelspec": {
   "display_name": "Python 3",
   "language": "python",
   "name": "python3"
  },
  "language_info": {
   "codemirror_mode": {
    "name": "ipython",
    "version": 3
   },
   "file_extension": ".py",
   "mimetype": "text/x-python",
   "name": "python",
   "nbconvert_exporter": "python",
   "pygments_lexer": "ipython3",
   "version": "3.7.4"
  }
 },
 "nbformat": 4,
 "nbformat_minor": 2
}
